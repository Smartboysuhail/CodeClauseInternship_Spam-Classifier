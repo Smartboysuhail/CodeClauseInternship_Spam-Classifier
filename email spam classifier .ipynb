{
 "cells": [
  {
   "cell_type": "code",
   "execution_count": null,
   "id": "a4c054ec",
   "metadata": {},
   "outputs": [],
   "source": [
    "import numpy as np\n",
    "import pandas as pd\n",
    "from sklearn.model_selection import train_test_split\n",
    "from sklearn.linear_model import LogisticRegression\n",
    "from sklearn.metrics import accuracy_score\n",
    "from sklearn.feature_extraction.text import TfidfVectorizer"
   ]
  },
  {
   "cell_type": "code",
   "execution_count": null,
   "id": "76b5f535",
   "metadata": {},
   "outputs": [],
   "source": [
    "df=pd.read_csv('mail_data.csv')"
   ]
  },
  {
   "cell_type": "code",
   "execution_count": null,
   "id": "6fa7c748",
   "metadata": {},
   "outputs": [],
   "source": [
    "data=df.where(pd.notnull(df),'')"
   ]
  },
  {
   "cell_type": "code",
   "execution_count": null,
   "id": "733f9916",
   "metadata": {},
   "outputs": [],
   "source": [
    "data.head"
   ]
  },
  {
   "cell_type": "code",
   "execution_count": null,
   "id": "eb0ce0e0",
   "metadata": {},
   "outputs": [],
   "source": [
    "data.shape"
   ]
  },
  {
   "cell_type": "code",
   "execution_count": null,
   "id": "05ff5542",
   "metadata": {},
   "outputs": [],
   "source": [
    "data.loc[data['Category']=='spam','Category',] = 0\n",
    "data.loc[data['Category']=='ham','Category',] = 1\n"
   ]
  },
  {
   "cell_type": "code",
   "execution_count": null,
   "id": "b6ac5555",
   "metadata": {},
   "outputs": [],
   "source": [
    "X=data['Message']\n",
    "Y=data['Category']"
   ]
  },
  {
   "cell_type": "code",
   "execution_count": null,
   "id": "3628f2b4",
   "metadata": {},
   "outputs": [],
   "source": [
    "print(X)\n",
    "print(Y)"
   ]
  },
  {
   "cell_type": "code",
   "execution_count": null,
   "id": "a381b2fc",
   "metadata": {},
   "outputs": [],
   "source": [
    "X_train,X_test,Y_train,Y_test=train_test_split(X,Y,random_state=3,test_size=0.2)"
   ]
  },
  {
   "cell_type": "code",
   "execution_count": null,
   "id": "4b7193c0",
   "metadata": {},
   "outputs": [],
   "source": [
    "feature_extraction=TfidfVectorizer(min_df=1,stop_words='english',lowercase='True')\n",
    "X_train_features=feature_extraction.fit_transform(X_train)\n",
    "X_test_features=feature_extraction.transform(X_test)\n",
    "\n",
    "Y_train=Y_train.astype('int')\n",
    "Y_test=Y_test.astype('int')\n"
   ]
  },
  {
   "cell_type": "code",
   "execution_count": null,
   "id": "cbe833d4",
   "metadata": {},
   "outputs": [],
   "source": [
    "print(X_train_features)"
   ]
  },
  {
   "cell_type": "code",
   "execution_count": null,
   "id": "95e7656a",
   "metadata": {},
   "outputs": [],
   "source": [
    "model=LogisticRegression()"
   ]
  },
  {
   "cell_type": "code",
   "execution_count": null,
   "id": "9e738fd5",
   "metadata": {},
   "outputs": [],
   "source": [
    "model.fit(X_train_features,Y_train)\n",
    "predict_on_training_data=model.predict(X_train_features)\n",
    "accuracy_on_training_data=accuracy_score(Y_train,predict_on_training_data)\n"
   ]
  },
  {
   "cell_type": "code",
   "execution_count": null,
   "id": "a1b97628",
   "metadata": {},
   "outputs": [],
   "source": [
    "print('acc on training data :', accuracy_on_training_data) "
   ]
  },
  {
   "cell_type": "code",
   "execution_count": null,
   "id": "4cca2a2c",
   "metadata": {},
   "outputs": [],
   "source": [
    "predict_on_testing_data=model.predict(X_test_features)\n",
    "accuracy_on_testing_data=accuracy_score(Y_test,predict_on_testing_data)\n"
   ]
  },
  {
   "cell_type": "code",
   "execution_count": null,
   "id": "efe98174",
   "metadata": {},
   "outputs": [],
   "source": [
    "print('acc on testing data :', accuracy_on_testing_data) "
   ]
  },
  {
   "cell_type": "code",
   "execution_count": null,
   "id": "2789bcbb",
   "metadata": {},
   "outputs": [],
   "source": [
    "input_your_mail=[\"Ok lar... Joking wif u oni...\"]\n",
    "input_data_features= feature_extraction.transform(input_your_mail)\n",
    "prediction_on_input= model.predict(input_data_features)\n",
    "print(prediction_on_input)\n",
    "if prediction_on_input==1:\n",
    "    print(\"Ham Email\")\n",
    "else:\n",
    "    print(\"Spam Email\")"
   ]
  }
 ],
 "metadata": {
  "kernelspec": {
   "display_name": "Python 3 (ipykernel)",
   "language": "python",
   "name": "python3"
  },
  "language_info": {
   "codemirror_mode": {
    "name": "ipython",
    "version": 3
   },
   "file_extension": ".py",
   "mimetype": "text/x-python",
   "name": "python",
   "nbconvert_exporter": "python",
   "pygments_lexer": "ipython3",
   "version": "3.9.13"
  }
 },
 "nbformat": 4,
 "nbformat_minor": 5
}
